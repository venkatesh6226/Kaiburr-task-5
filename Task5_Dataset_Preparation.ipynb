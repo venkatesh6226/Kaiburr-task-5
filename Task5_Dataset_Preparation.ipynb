{
 "cells": [
  {
   "cell_type": "markdown",
   "id": "b340b447",
   "metadata": {},
   "source": [
    "# Task 5 · Dataset Preparation for Consumer Complaint Classification\n",
    "\n",
    "**Objective:** Prepare a balanced dataset for text classification from the Consumer Complaint dataset (Kaggle version).\n",
    "\n",
    "**Pipeline Steps in this Notebook**\n",
    "1. Load the raw Kaggle dataset  \n",
    "2. Exploratory Data Analysis (EDA)  \n",
    "3. Select relevant features  \n",
    "4. Map `Product` values into 4 canonical categories  \n",
    "5. Balance the dataset (equal samples per class)  \n",
    "6. Final cleanup & save the balanced CSV  \n",
    "7. Sanity check (peek a few samples)  \n",
    "\n",
    "_Input expected: a Kaggle CSV at `consumer_complaints.csv` in the working directory._"
   ]
  },
  {
   "cell_type": "markdown",
   "id": "bf94221f",
   "metadata": {},
   "source": [
    "## 1️⃣ Load Raw Kaggle Dataset"
   ]
  },
  {
   "cell_type": "code",
   "execution_count": null,
   "id": "ea5b7e32",
   "metadata": {},
   "outputs": [],
   "source": [
    "import pandas as pd\n",
    "\n",
    "INPUT_PATH = \"consumer_complaints.csv\"  # Update if your filename differs\n",
    "print(\"📥 Loading dataset from:\", INPUT_PATH)\n",
    "df = pd.read_csv(INPUT_PATH, low_memory=False)\n",
    "print(f\"✅ Loaded: {df.shape[0]} rows × {df.shape[1]} columns\")\n",
    "df.head()"
   ]
  },
  {
   "cell_type": "markdown",
   "id": "13bf794d",
   "metadata": {},
   "source": [
    "## 2️⃣ Exploratory Data Analysis (EDA)"
   ]
  },
  {
   "cell_type": "code",
   "execution_count": null,
   "id": "e6624177",
   "metadata": {},
   "outputs": [],
   "source": [
    "# Show column names\n",
    "print(\"Columns:\", list(df.columns))\n",
    "\n",
    "# Missing values (top 10)\n",
    "missing_pct = df.isnull().mean().sort_values(ascending=False) * 100\n",
    "print(\"\\n🔍 Missing value percentages (top 10):\")\n",
    "print(missing_pct.head(10))\n",
    "\n",
    "# Product distribution (top 15)\n",
    "print(\"\\n📊 Product value counts (top 15):\")\n",
    "print(df[\"Product\"].value_counts().head(15))"
   ]
  },
  {
   "cell_type": "markdown",
   "id": "e6169eb5",
   "metadata": {},
   "source": [
    "## 3️⃣ Select Relevant Features"
   ]
  },
  {
   "cell_type": "code",
   "execution_count": null,
   "id": "95128e42",
   "metadata": {},
   "outputs": [],
   "source": [
    "# Keep only columns we need for the downstream classifier\n",
    "df = df[[\"Product\", \"Consumer complaint narrative\"]]\n",
    "\n",
    "# Drop rows without narrative text\n",
    "before = len(df)\n",
    "df = df.dropna(subset=[\"Consumer complaint narrative\"])\n",
    "after = len(df)\n",
    "print(f\"✅ Dropped {before - after} rows with empty narratives; remaining: {after}\")"
   ]
  },
  {
   "cell_type": "markdown",
   "id": "fb8babca",
   "metadata": {},
   "source": [
    "## 4️⃣ Map `Product` to Canonical Categories"
   ]
  },
  {
   "cell_type": "code",
   "execution_count": null,
   "id": "c7e27397",
   "metadata": {},
   "outputs": [],
   "source": [
    "# Map long/variant product names into the 4 assignment categories\n",
    "\n",
    "def map_category(p):\n",
    "    s = str(p).lower()\n",
    "    if \"credit reporting\" in s or \"credit repair\" in s:\n",
    "        return \"Credit reporting, repair, or other\"\n",
    "    if \"debt collection\" in s:\n",
    "        return \"Debt collection\"\n",
    "    if \"consumer loan\" in s or s.strip() == \"loan\":\n",
    "        return \"Consumer Loan\"\n",
    "    if \"mortgage\" in s:\n",
    "        return \"Mortgage\"\n",
    "    return None\n",
    "\n",
    "df[\"canon_product\"] = df[\"Product\"].apply(map_category)\n",
    "df = df[df[\"canon_product\"].notnull()].reset_index(drop=True)\n",
    "\n",
    "print(\"📊 Counts after mapping to 4 classes:\")\n",
    "print(df[\"canon_product\"].value_counts())\n",
    "\n",
    "df.head()"
   ]
  },
  {
   "cell_type": "markdown",
   "id": "399eeb4b",
   "metadata": {},
   "source": [
    "## 5️⃣ Balance the Dataset"
   ]
  },
  {
   "cell_type": "code",
   "execution_count": null,
   "id": "025990a7",
   "metadata": {},
   "outputs": [],
   "source": [
    "# Choose how many per class (adjust as needed based on availability)\n",
    "TARGET_PER_CLASS = 2000  # e.g., 500 / 1000 / 2000 / 5000\n",
    "\n",
    "df_balanced = (\n",
    "    df.groupby(\"canon_product\", group_keys=False)\n",
    "      .apply(lambda x: x.sample(min(len(x), TARGET_PER_CLASS), random_state=42))\n",
    "      .reset_index(drop=True)\n",
    ")\n",
    "\n",
    "print(\"✅ Class distribution after balancing:\")\n",
    "print(df_balanced[\"canon_product\"].value_counts())\n",
    "print(f\"🎯 Total complaints after balancing: {len(df_balanced)}\")"
   ]
  },
  {
   "cell_type": "markdown",
   "id": "4680efa9",
   "metadata": {},
   "source": [
    "## 6️⃣ Final Cleanup & Save Balanced CSV"
   ]
  },
  {
   "cell_type": "code",
   "execution_count": null,
   "id": "2d8ba90c",
   "metadata": {},
   "outputs": [],
   "source": [
    "import os\n",
    "\n",
    "SAVE_DIR = \"data\"\n",
    "os.makedirs(SAVE_DIR, exist_ok=True)\n",
    "SAVE_PATH = os.path.join(SAVE_DIR, \"ccdb_balanced.csv\")\n",
    "\n",
    "# Rename narrative column to 'text' and keep only what the model notebook expects\n",
    "df_balanced = df_balanced.rename(columns={\"Consumer complaint narrative\": \"text\"})\n",
    "df_balanced = df_balanced[[\"text\", \"canon_product\"]]\n",
    "\n",
    "df_balanced.to_csv(SAVE_PATH, index=False)\n",
    "print(f\"💾 Saved to: {SAVE_PATH}\")\n",
    "print(\"Final shape:\", df_balanced.shape)"
   ]
  },
  {
   "cell_type": "markdown",
   "id": "da78fd9c",
   "metadata": {},
   "source": [
    "## 7️⃣ Sanity Check (Peek a Few Samples)"
   ]
  },
  {
   "cell_type": "code",
   "execution_count": null,
   "id": "630f87c5",
   "metadata": {},
   "outputs": [],
   "source": [
    "# Show one random example per class\n",
    "for label, group in df_balanced.groupby(\"canon_product\"):\n",
    "    print(f\"\\n--- {label} ---\")\n",
    "    print(group[\"text\"].sample(1, random_state=42).values[0][:300], \"...\")"
   ]
  }
 ],
 "metadata": {
  "language_info": {
   "name": "python"
  }
 },
 "nbformat": 4,
 "nbformat_minor": 5
}
